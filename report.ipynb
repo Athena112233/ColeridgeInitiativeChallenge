{
 "cells": [
  {
   "cell_type": "markdown",
   "metadata": {},
   "source": [
    "<h1 align = 'center'> Coleridge Initiative - Show US the Data </h1>\n",
    "<h2 align = 'center'>  Group </h2>"
   ]
  },
  {
   "cell_type": "markdown",
   "metadata": {},
   "source": [
    "## 1. Setup"
   ]
  },
  {
   "cell_type": "code",
   "execution_count": 2,
   "metadata": {
    "collapsed": true
   },
   "outputs": [],
   "source": [
    "from bs4 import BeautifulSoup\n",
    "import zipfile\n",
    "import os"
   ]
  },
  {
   "cell_type": "markdown",
   "metadata": {},
   "source": [
    "## 2. Data"
   ]
  },
  {
   "cell_type": "code",
   "execution_count": null,
   "metadata": {
    "collapsed": true
   },
   "outputs": [],
   "source": [
    "def get_data():\n",
    "    '''\n",
    "    Download data from kaggle and save to ~/Data/\n",
    "    '''\n",
    "    \n",
    "    #Create data folder\n",
    "    try: \n",
    "        os.mkdir('Data')\n",
    "        print('Data Folder Created')\n",
    "    except:\n",
    "        print('Data Folder Already Created')\n",
    "\n",
    "    #Download data from kaggle and unzip.\n",
    "    os.chdir('Data')\n",
    "    !kaggle competitions download -c coleridgeinitiative-show-us-the-data\n",
    "    with zipfile.ZipFile(\"coleridgeinitiative-show-us-the-data.zip\",\"r\") as zip_ref:\n",
    "        zip_ref.extractall(\"Data/\")\n",
    "    os.chdir('..')\n",
    "\n",
    "#get_data()"
   ]
  },
  {
   "cell_type": "code",
   "execution_count": null,
   "metadata": {
    "collapsed": true
   },
   "outputs": [],
   "source": [
    "os.listdir('data/')"
   ]
  },
  {
   "cell_type": "code",
   "execution_count": null,
   "metadata": {
    "collapsed": true
   },
   "outputs": [],
   "source": [
    "\n",
    "soup = BeautifulSoup('')"
   ]
  }
 ],
 "metadata": {
  "kernelspec": {
   "display_name": "Python 3",
   "language": "python",
   "name": "python3"
  },
  "language_info": {
   "codemirror_mode": {
    "name": "ipython",
    "version": 3
   },
   "file_extension": ".py",
   "mimetype": "text/x-python",
   "name": "python",
   "nbconvert_exporter": "python",
   "pygments_lexer": "ipython3",
   "version": "3.6.3"
  }
 },
 "nbformat": 4,
 "nbformat_minor": 2
}
