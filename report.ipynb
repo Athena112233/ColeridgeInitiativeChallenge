{
 "cells": [
  {
   "cell_type": "markdown",
   "metadata": {},
   "source": [
    "<h1 align = 'center'> Coleridge Initiative - Show US the Data </h1>\n",
    "<h2 align = 'center'>  Group </h2>"
   ]
  },
  {
   "cell_type": "markdown",
   "metadata": {},
   "source": [
    "## 1. Setup"
   ]
  },
  {
   "cell_type": "code",
   "execution_count": 1,
   "metadata": {},
   "outputs": [],
   "source": [
    "#from bs4 import BeautifulSoup\n",
    "import zipfile\n",
    "import os\n",
    "import json\n",
    "import numpy as np \n",
    "import pandas as pd \n",
    "\n",
    "os.chdir('src')\n",
    "import vocab\n",
    "os.chdir('..')\n",
    "\n",
    "DATA_FOLDER = \"Data\"\n",
    "TRAIN_FOLDER = \"Data/train/\""
   ]
  },
  {
   "cell_type": "code",
   "execution_count": null,
   "metadata": {
    "collapsed": true
   },
   "outputs": [],
   "source": []
  },
  {
   "cell_type": "markdown",
   "metadata": {},
   "source": [
    "## 2. Data"
   ]
  },
  {
   "cell_type": "code",
   "execution_count": null,
   "metadata": {
    "collapsed": true
   },
   "outputs": [],
   "source": [
    "def get_data(data_folder):\n",
    "    '''\n",
    "    Download data from kaggle and save to /Data/\n",
    "    '''\n",
    "    \n",
    "    #Create data folder\n",
    "    try: \n",
    "        os.mkdir(data_folder)\n",
    "        print('Data Folder Created')\n",
    "    except:\n",
    "        print('Data Folder Already Created')\n",
    "\n",
    "    #Download data from kaggle and unzip.\n",
    "    os.chdir(data_folder)\n",
    "    !kaggle competitions download -c coleridgeinitiative-show-us-the-data\n",
    "    with zipfile.ZipFile(\"coleridgeinitiative-show-us-the-data.zip\",\"r\") as zip_ref:\n",
    "        zip_ref.extractall(data_folder + '/')\n",
    "    os.chdir('..')\n",
    "\n",
    "#get_data(DATA_FOLDER)"
   ]
  },
  {
   "cell_type": "code",
   "execution_count": 2,
   "metadata": {},
   "outputs": [
    {
     "data": {
      "text/html": [
       "<div>\n",
       "<style scoped>\n",
       "    .dataframe tbody tr th:only-of-type {\n",
       "        vertical-align: middle;\n",
       "    }\n",
       "\n",
       "    .dataframe tbody tr th {\n",
       "        vertical-align: top;\n",
       "    }\n",
       "\n",
       "    .dataframe thead th {\n",
       "        text-align: right;\n",
       "    }\n",
       "</style>\n",
       "<table border=\"1\" class=\"dataframe\">\n",
       "  <thead>\n",
       "    <tr style=\"text-align: right;\">\n",
       "      <th></th>\n",
       "      <th>Id</th>\n",
       "      <th>pub_title</th>\n",
       "      <th>dataset_title</th>\n",
       "      <th>dataset_label</th>\n",
       "      <th>cleaned_label</th>\n",
       "    </tr>\n",
       "  </thead>\n",
       "  <tbody>\n",
       "    <tr>\n",
       "      <th>0</th>\n",
       "      <td>d0fa7568-7d8e-4db9-870f-f9c6f668c17b</td>\n",
       "      <td>The Impact of Dual Enrollment on College Degre...</td>\n",
       "      <td>National Education Longitudinal Study</td>\n",
       "      <td>National Education Longitudinal Study</td>\n",
       "      <td>national education longitudinal study</td>\n",
       "    </tr>\n",
       "    <tr>\n",
       "      <th>1</th>\n",
       "      <td>2f26f645-3dec-485d-b68d-f013c9e05e60</td>\n",
       "      <td>Educational Attainment of High School Dropouts...</td>\n",
       "      <td>National Education Longitudinal Study</td>\n",
       "      <td>National Education Longitudinal Study</td>\n",
       "      <td>national education longitudinal study</td>\n",
       "    </tr>\n",
       "    <tr>\n",
       "      <th>2</th>\n",
       "      <td>c5d5cd2c-59de-4f29-bbb1-6a88c7b52f29</td>\n",
       "      <td>Differences in Outcomes for Female and Male St...</td>\n",
       "      <td>National Education Longitudinal Study</td>\n",
       "      <td>National Education Longitudinal Study</td>\n",
       "      <td>national education longitudinal study</td>\n",
       "    </tr>\n",
       "    <tr>\n",
       "      <th>3</th>\n",
       "      <td>5c9a3bc9-41ba-4574-ad71-e25c1442c8af</td>\n",
       "      <td>Stepping Stone and Option Value in a Model of ...</td>\n",
       "      <td>National Education Longitudinal Study</td>\n",
       "      <td>National Education Longitudinal Study</td>\n",
       "      <td>national education longitudinal study</td>\n",
       "    </tr>\n",
       "    <tr>\n",
       "      <th>4</th>\n",
       "      <td>c754dec7-c5a3-4337-9892-c02158475064</td>\n",
       "      <td>Parental Effort, School Resources, and Student...</td>\n",
       "      <td>National Education Longitudinal Study</td>\n",
       "      <td>National Education Longitudinal Study</td>\n",
       "      <td>national education longitudinal study</td>\n",
       "    </tr>\n",
       "  </tbody>\n",
       "</table>\n",
       "</div>"
      ],
      "text/plain": [
       "                                     Id  \\\n",
       "0  d0fa7568-7d8e-4db9-870f-f9c6f668c17b   \n",
       "1  2f26f645-3dec-485d-b68d-f013c9e05e60   \n",
       "2  c5d5cd2c-59de-4f29-bbb1-6a88c7b52f29   \n",
       "3  5c9a3bc9-41ba-4574-ad71-e25c1442c8af   \n",
       "4  c754dec7-c5a3-4337-9892-c02158475064   \n",
       "\n",
       "                                           pub_title  \\\n",
       "0  The Impact of Dual Enrollment on College Degre...   \n",
       "1  Educational Attainment of High School Dropouts...   \n",
       "2  Differences in Outcomes for Female and Male St...   \n",
       "3  Stepping Stone and Option Value in a Model of ...   \n",
       "4  Parental Effort, School Resources, and Student...   \n",
       "\n",
       "                           dataset_title  \\\n",
       "0  National Education Longitudinal Study   \n",
       "1  National Education Longitudinal Study   \n",
       "2  National Education Longitudinal Study   \n",
       "3  National Education Longitudinal Study   \n",
       "4  National Education Longitudinal Study   \n",
       "\n",
       "                           dataset_label  \\\n",
       "0  National Education Longitudinal Study   \n",
       "1  National Education Longitudinal Study   \n",
       "2  National Education Longitudinal Study   \n",
       "3  National Education Longitudinal Study   \n",
       "4  National Education Longitudinal Study   \n",
       "\n",
       "                           cleaned_label  \n",
       "0  national education longitudinal study  \n",
       "1  national education longitudinal study  \n",
       "2  national education longitudinal study  \n",
       "3  national education longitudinal study  \n",
       "4  national education longitudinal study  "
      ]
     },
     "execution_count": 2,
     "metadata": {},
     "output_type": "execute_result"
    }
   ],
   "source": [
    "train_df = pd.read_csv(DATA_FOLDER + '/train.csv')\n",
    "train_df.head()"
   ]
  },
  {
   "cell_type": "code",
   "execution_count": 4,
   "metadata": {
    "collapsed": true
   },
   "outputs": [],
   "source": [
    "train_files = os.listdir(TRAIN_FOLDER)"
   ]
  },
  {
   "cell_type": "code",
   "execution_count": 7,
   "metadata": {},
   "outputs": [
    {
     "data": {
      "text/html": [
       "<div>\n",
       "<style scoped>\n",
       "    .dataframe tbody tr th:only-of-type {\n",
       "        vertical-align: middle;\n",
       "    }\n",
       "\n",
       "    .dataframe tbody tr th {\n",
       "        vertical-align: top;\n",
       "    }\n",
       "\n",
       "    .dataframe thead th {\n",
       "        text-align: right;\n",
       "    }\n",
       "</style>\n",
       "<table border=\"1\" class=\"dataframe\">\n",
       "  <thead>\n",
       "    <tr style=\"text-align: right;\">\n",
       "      <th></th>\n",
       "      <th>Id</th>\n",
       "      <th>pub_title</th>\n",
       "      <th>dataset_title</th>\n",
       "      <th>dataset_label</th>\n",
       "      <th>cleaned_label</th>\n",
       "    </tr>\n",
       "  </thead>\n",
       "  <tbody>\n",
       "    <tr>\n",
       "      <th>1582</th>\n",
       "      <td>0007f880-0a9b-492d-9a58-76eb0b0e0bd7</td>\n",
       "      <td>The Impact of ICT Training on Income Generatio...</td>\n",
       "      <td>Program for the International Assessment of Ad...</td>\n",
       "      <td>Program for the International Assessment of Ad...</td>\n",
       "      <td>program for the international assessment of ad...</td>\n",
       "    </tr>\n",
       "  </tbody>\n",
       "</table>\n",
       "</div>"
      ],
      "text/plain": [
       "                                        Id  \\\n",
       "1582  0007f880-0a9b-492d-9a58-76eb0b0e0bd7   \n",
       "\n",
       "                                              pub_title  \\\n",
       "1582  The Impact of ICT Training on Income Generatio...   \n",
       "\n",
       "                                          dataset_title  \\\n",
       "1582  Program for the International Assessment of Ad...   \n",
       "\n",
       "                                          dataset_label  \\\n",
       "1582  Program for the International Assessment of Ad...   \n",
       "\n",
       "                                          cleaned_label  \n",
       "1582  program for the international assessment of ad...  "
      ]
     },
     "execution_count": 7,
     "metadata": {},
     "output_type": "execute_result"
    }
   ],
   "source": [
    "train_df[train_df.Id == train_files[0][:-5]]"
   ]
  },
  {
   "cell_type": "code",
   "execution_count": 26,
   "metadata": {},
   "outputs": [],
   "source": [
    "appearance = {}\n",
    "found = 0\n",
    "for fname in train_files: \n",
    "    with open(TRAIN_FOLDER + fname) as f:\n",
    "            sample_data = json.loads(f.read())\n",
    "            label = train_df[train_df.Id == fname[:-5]].cleaned_label.iloc[0]\n",
    "            for sec in sample_data:\n",
    "                text = sec['text'].lower()\n",
    "                if label in text:\n",
    "                    try:\n",
    "                        appearance[sec['section_title'].lower().strip()] += 1\n",
    "                    except:\n",
    "                        appearance[sec['section_title'].lower().strip()] = 0\n",
    "                        found += 1"
   ]
  },
  {
   "cell_type": "code",
   "execution_count": 27,
   "metadata": {},
   "outputs": [
    {
     "data": {
      "text/plain": [
       "0.8166387259010897"
      ]
     },
     "execution_count": 27,
     "metadata": {},
     "output_type": "execute_result"
    }
   ],
   "source": [
    "found / len(train_files)"
   ]
  },
  {
   "cell_type": "code",
   "execution_count": 28,
   "metadata": {},
   "outputs": [
    {
     "data": {
      "text/plain": [
       "introduction    0.159961\n",
       "abstract        0.096326\n",
       "discussion      0.090319\n",
       "                0.073903\n",
       "data            0.030246\n",
       "results         0.022073\n",
       "methods         0.020327\n",
       "participants    0.018092\n",
       "conclusion      0.016206\n",
       "subjects        0.015647\n",
       "dtype: float64"
      ]
     },
     "execution_count": 28,
     "metadata": {},
     "output_type": "execute_result"
    }
   ],
   "source": [
    "(pd.Series(appearance)/ len(train_files)).sort_values(ascending =False).head(10)"
   ]
  },
  {
   "cell_type": "markdown",
   "metadata": {},
   "source": [
    "## 3. Preliminary EDA"
   ]
  },
  {
   "cell_type": "code",
   "execution_count": 31,
   "metadata": {},
   "outputs": [
    {
     "name": "stdout",
     "output_type": "stream",
     "text": [
      "Total number of files for training data: 14316\n"
     ]
    }
   ],
   "source": [
    "print(\"Total number of files for training data: {}\".format(str(len(train_files))))"
   ]
  },
  {
   "cell_type": "code",
   "execution_count": 45,
   "metadata": {
    "collapsed": true
   },
   "outputs": [],
   "source": [
    "section_titles = []\n",
    "sections_counts = {}\n",
    "for fname in train_files: \n",
    "    with open(TRAIN_FOLDER + fname) as f:\n",
    "        sample_data = json.loads(f.read())\n",
    "    section_title = []\n",
    "    for i in sample_data:\n",
    "        section_title.append(i['section_title'])\n",
    "    section_titles.append(section_title)\n",
    "    for sec in section_title:\n",
    "        try:\n",
    "            sections_counts[sec] += 1\n",
    "        except:\n",
    "            sections_counts[sec] = 0        "
   ]
  },
  {
   "cell_type": "code",
   "execution_count": 56,
   "metadata": {},
   "outputs": [
    {
     "data": {
      "text/plain": [
       "Abstract                 8289\n",
       "Introduction             6616\n",
       "Results                  4862\n",
       "Discussion               4650\n",
       "                         4273\n",
       "Methods                  2411\n",
       "Conclusion               2274\n",
       "Conclusions              2125\n",
       "INTRODUCTION             1999\n",
       "RESULTS                  1523\n",
       "DISCUSSION               1442\n",
       "Data                      880\n",
       "Participants              813\n",
       "METHODS                   733\n",
       "Background                731\n",
       "Method                    675\n",
       "Statistical analysis      625\n",
       "CONCLUSION                596\n",
       "Materials and Methods     580\n",
       "Limitations               576\n",
       "dtype: int64"
      ]
     },
     "execution_count": 56,
     "metadata": {},
     "output_type": "execute_result"
    }
   ],
   "source": [
    "pd.Series(sections_counts).sort_values(ascending = False).head(20)"
   ]
  },
  {
   "cell_type": "code",
   "execution_count": 60,
   "metadata": {},
   "outputs": [
    {
     "data": {
      "text/plain": [
       "Alzheimer's Disease Neuroimaging Initiative (ADNI)       6144\n",
       "Baltimore Longitudinal Study of Aging (BLSA)             1589\n",
       "Trends in International Mathematics and Science Study    1163\n",
       "Early Childhood Longitudinal Study                       1011\n",
       "SARS-CoV-2 genome sequence                                860\n",
       "Census of Agriculture                                     743\n",
       "Education Longitudinal Study                              676\n",
       "Agricultural Resource Management Survey                   660\n",
       "North American Breeding Bird Survey (BBS)                 585\n",
       "National Education Longitudinal Study                     550\n",
       "Name: dataset_title, dtype: int64"
      ]
     },
     "execution_count": 60,
     "metadata": {},
     "output_type": "execute_result"
    }
   ],
   "source": [
    "train_df.dataset_title.value_counts().head(10)"
   ]
  },
  {
   "cell_type": "code",
   "execution_count": 61,
   "metadata": {},
   "outputs": [
    {
     "data": {
      "text/plain": [
       "ADNI                                                     3673\n",
       "Alzheimer's Disease Neuroimaging Initiative (ADNI)       2400\n",
       "Trends in International Mathematics and Science Study    1163\n",
       "Baltimore Longitudinal Study of Aging                    1156\n",
       "Early Childhood Longitudinal Study                       1011\n",
       "Education Longitudinal Study                              676\n",
       "Census of Agriculture                                     643\n",
       "Agricultural Resource Management Survey                   623\n",
       "National Education Longitudinal Study                     550\n",
       "Rural-Urban Continuum Codes                               490\n",
       "Name: dataset_label, dtype: int64"
      ]
     },
     "execution_count": 61,
     "metadata": {},
     "output_type": "execute_result"
    }
   ],
   "source": [
    "train_df.dataset_label.value_counts().head(10)"
   ]
  },
  {
   "cell_type": "code",
   "execution_count": 65,
   "metadata": {},
   "outputs": [
    {
     "data": {
      "text/plain": [
       "adni                                                     3673\n",
       "alzheimer s disease neuroimaging initiative adni         2400\n",
       "trends in international mathematics and science study    1163\n",
       "baltimore longitudinal study of aging                    1156\n",
       "early childhood longitudinal study                       1011\n",
       "education longitudinal study                              676\n",
       "census of agriculture                                     643\n",
       "agricultural resource management survey                   623\n",
       "national education longitudinal study                     550\n",
       "rural urban continuum codes                               490\n",
       "Name: cleaned_label, dtype: int64"
      ]
     },
     "execution_count": 65,
     "metadata": {},
     "output_type": "execute_result"
    }
   ],
   "source": [
    "train_df.cleaned_label.value_counts().head(10)"
   ]
  },
  {
   "cell_type": "code",
   "execution_count": 74,
   "metadata": {},
   "outputs": [
    {
     "data": {
      "text/html": [
       "<div>\n",
       "<style scoped>\n",
       "    .dataframe tbody tr th:only-of-type {\n",
       "        vertical-align: middle;\n",
       "    }\n",
       "\n",
       "    .dataframe tbody tr th {\n",
       "        vertical-align: top;\n",
       "    }\n",
       "\n",
       "    .dataframe thead th {\n",
       "        text-align: right;\n",
       "    }\n",
       "</style>\n",
       "<table border=\"1\" class=\"dataframe\">\n",
       "  <thead>\n",
       "    <tr style=\"text-align: right;\">\n",
       "      <th></th>\n",
       "      <th>Id</th>\n",
       "      <th>pub_title</th>\n",
       "      <th>dataset_title</th>\n",
       "      <th>dataset_label</th>\n",
       "      <th>cleaned_label</th>\n",
       "    </tr>\n",
       "  </thead>\n",
       "  <tbody>\n",
       "    <tr>\n",
       "      <th>count</th>\n",
       "      <td>19661</td>\n",
       "      <td>19661</td>\n",
       "      <td>19661</td>\n",
       "      <td>19661</td>\n",
       "      <td>19661</td>\n",
       "    </tr>\n",
       "    <tr>\n",
       "      <th>unique</th>\n",
       "      <td>14316</td>\n",
       "      <td>14271</td>\n",
       "      <td>45</td>\n",
       "      <td>130</td>\n",
       "      <td>130</td>\n",
       "    </tr>\n",
       "    <tr>\n",
       "      <th>top</th>\n",
       "      <td>170113f9-399c-489e-ab53-2faf5c64c5bc</td>\n",
       "      <td>Science and Engineering Indicators 2014</td>\n",
       "      <td>Alzheimer's Disease Neuroimaging Initiative (A...</td>\n",
       "      <td>ADNI</td>\n",
       "      <td>adni</td>\n",
       "    </tr>\n",
       "    <tr>\n",
       "      <th>freq</th>\n",
       "      <td>22</td>\n",
       "      <td>22</td>\n",
       "      <td>6144</td>\n",
       "      <td>3673</td>\n",
       "      <td>3673</td>\n",
       "    </tr>\n",
       "  </tbody>\n",
       "</table>\n",
       "</div>"
      ],
      "text/plain": [
       "                                          Id  \\\n",
       "count                                  19661   \n",
       "unique                                 14316   \n",
       "top     170113f9-399c-489e-ab53-2faf5c64c5bc   \n",
       "freq                                      22   \n",
       "\n",
       "                                      pub_title  \\\n",
       "count                                     19661   \n",
       "unique                                    14271   \n",
       "top     Science and Engineering Indicators 2014   \n",
       "freq                                         22   \n",
       "\n",
       "                                            dataset_title dataset_label  \\\n",
       "count                                               19661         19661   \n",
       "unique                                                 45           130   \n",
       "top     Alzheimer's Disease Neuroimaging Initiative (A...          ADNI   \n",
       "freq                                                 6144          3673   \n",
       "\n",
       "       cleaned_label  \n",
       "count          19661  \n",
       "unique           130  \n",
       "top             adni  \n",
       "freq            3673  "
      ]
     },
     "execution_count": 74,
     "metadata": {},
     "output_type": "execute_result"
    }
   ],
   "source": [
    "train_df.describe()"
   ]
  },
  {
   "cell_type": "markdown",
   "metadata": {
    "collapsed": true
   },
   "source": [
    "## 4. Dataset Preparation"
   ]
  },
  {
   "cell_type": "code",
   "execution_count": 6,
   "metadata": {},
   "outputs": [
    {
     "name": "stdout",
     "output_type": "stream",
     "text": [
      "Using the saved vocab.\n"
     ]
    },
    {
     "data": {
      "text/plain": [
       "<vocab.Vocabulary at 0x19071a306d8>"
      ]
     },
     "execution_count": 6,
     "metadata": {},
     "output_type": "execute_result"
    }
   ],
   "source": [
    "vocab.load_vocab(os.getcwd() +'/' + TRAIN_FOLDER, 1)"
   ]
  },
  {
   "cell_type": "code",
   "execution_count": null,
   "metadata": {
    "collapsed": true
   },
   "outputs": [],
   "source": []
  }
 ],
 "metadata": {
  "kernelspec": {
   "display_name": "Python 3",
   "language": "python",
   "name": "python3"
  },
  "language_info": {
   "codemirror_mode": {
    "name": "ipython",
    "version": 3
   },
   "file_extension": ".py",
   "mimetype": "text/x-python",
   "name": "python",
   "nbconvert_exporter": "python",
   "pygments_lexer": "ipython3",
   "version": "3.6.3"
  }
 },
 "nbformat": 4,
 "nbformat_minor": 2
}
